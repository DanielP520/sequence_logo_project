{
 "cells": [
  {
   "cell_type": "markdown",
   "metadata": {},
   "source": [
    "1. Run this cell to create and execute all functions"
   ]
  },
  {
   "cell_type": "code",
   "execution_count": null,
   "metadata": {
    "id": "nB3YnhzYgg8D"
   },
   "outputs": [],
   "source": [
    "def plot_3d_scatter_matplotlib(df):\n",
    "    # Create a new figure and a 3D axis\n",
    "    points_data = df[['X',\"Y\",\"Z\"]].values.tolist()\n",
    "\n",
    "    fig = plt.figure()\n",
    "    ax = fig.add_subplot(111, projection='3d')\n",
    "\n",
    "    # Extract x, y, and z coordinates from the points data\n",
    "    x = df.iloc[:, 0]\n",
    "    y = df.iloc[:, 1]\n",
    "    z = df.iloc[:, 2]\n",
    "    # Create the 3D scatter plot\n",
    "    ax.scatter(x, y, z, c='r', marker='o')\n",
    "\n",
    "    # Set axis labels\n",
    "    ax.set_xlabel('X')\n",
    "    ax.set_ylabel('Y')\n",
    "    ax.set_zlabel('Z')\n",
    "    plt.ion()\n",
    "    # Show the plot\n",
    "    plt.show()"
   ]
  },
  {
   "cell_type": "code",
   "execution_count": 1,
   "metadata": {},
   "outputs": [
    {
     "name": "stdout",
     "output_type": "stream",
     "text": [
      "LogoMaker.ipynb        logo_2.png             pdb_parser.py\r\n",
      "README.md              logo_3.png             see.csv\r\n",
      "\u001b[34m__pycache__\u001b[m\u001b[m/           logo_4.png             sequence_logo_main.py\r\n",
      "helper_functions.py    \u001b[34mlogos\u001b[m\u001b[m/                 \u001b[34mtemp_seq_logos\u001b[m\u001b[m/\r\n",
      "logo.png               \u001b[34mmodels\u001b[m\u001b[m/\r\n",
      "logo_1.png             pdb.pdb\r\n"
     ]
    }
   ],
   "source": []
  },
  {
   "cell_type": "code",
   "execution_count": null,
   "metadata": {
    "colab": {
     "base_uri": "https://localhost:8080/"
    },
    "id": "F52ErKdehJJK",
    "outputId": "1ef446bb-7bbc-4f25-b319-d97e82892837"
   },
   "outputs": [
    {
     "name": "stdout",
     "output_type": "stream",
     "text": [
      "/root\n"
     ]
    }
   ],
   "source": []
  }
 ],
 "metadata": {
  "colab": {
   "provenance": []
  },
  "kernelspec": {
   "display_name": "Python 3 (ipykernel)",
   "language": "python",
   "name": "python3"
  },
  "language_info": {
   "codemirror_mode": {
    "name": "ipython",
    "version": 3
   },
   "file_extension": ".py",
   "mimetype": "text/x-python",
   "name": "python",
   "nbconvert_exporter": "python",
   "pygments_lexer": "ipython3",
   "version": "3.9.7"
  }
 },
 "nbformat": 4,
 "nbformat_minor": 1
}
