{
  "cells": [
    {
      "cell_type": "markdown",
      "metadata": {
        "id": "5eEejF-eDlI7"
      },
      "source": [
        "## **Localized Sequence Logo Generator**\n",
        "\n",
        "**What is this tool?**\n",
        "This online tool, hosted on Google Colab, is designed to generate sequence logos based on the distance from a target residue or ligand in a given dataset of pdbs. The distance is calculated using the alpha carbon positions between protein interfaces or all non-hydrogen atoms in the case of ligands. The tool also includes a 3D visualizer that plots the entire target structure and highlights the residues within the specified distance constraint. There are two options for colering the interacting residues based on [Amino colour](http://acces.ens-lyon.fr/biotic/rastop/help/colour.htm#aminocolours) and [Shapely colour](http://acces.ens-lyon.fr/biotic/rastop/help/colour.htm#shapelycolours).\n",
        "\n",
        "**Required Inputs:**\n",
        "- PDB Files: Two examples are provided on GitHub, one for protein-protein interactions and one for ligand-protein interactions.\n",
        "- Target Chain from PDB: The program uses the first file in the directory to upload the target structure.\n",
        "- Interacting Chain from PDB: This chain identifier must be the same across all PDB files.\n",
        "- Specify Target Type: Indicate whether the target is a ligand or a protein.\n",
        "- Target Residue Index (for proteins) or Unique Atom Names (for ligands): Provide the target residue index for proteins or unique atom names for ligands. Alternatively, you can input 'All' to consider all residues/atoms.\n",
        "\n",
        "**Usage:**\n",
        "Please execute the cells in numerical order. If you wish to load a different dataset, you can start from the upload step to reload the new data.\n"
      ]
    },
    {
      "cell_type": "code",
      "execution_count": 2,
      "metadata": {
        "id": "RAYPZ2usLzcn"
      },
      "outputs": [],
      "source": [
        "#@title ##1. Install and import required packages\n",
        "%%capture\n",
        "\n",
        "from google.colab import drive\n",
        "drive.mount('/content/drive')\n",
        "!git clone https://github.com/DanielP520/sequence_logo_project.git\n",
        "%cd sequence_logo_project\n",
        "!pip install logomaker\n",
        "!pip install rarfile\n",
        "import pandas as pd\n",
        "import helper_functions\n",
        "import sequence_logo_main\n",
        "import os\n",
        "import glob\n",
        "import zipfile\n",
        "import tarfile\n",
        "import rarfile\n",
        "%matplotlib notebook\n",
        "def configure_plotly_browser_state():\n",
        "  import IPython\n",
        "  display(IPython.core.display.HTML('''\n",
        "        <script src=\"/static/components/requirejs/require.js\"></script>\n",
        "        <script>\n",
        "          requirejs.config({\n",
        "            paths: {\n",
        "              base: '/static/base',\n",
        "              plotly: 'https://cdn.plot.ly/plotly-latest.min.js?noext',\n",
        "            },\n",
        "          });\n",
        "        </script>\n",
        "        '''))\n",
        "os.mkdir('temp')\n",
        "\n",
        "\n"
      ]
    },
    {
      "cell_type": "code",
      "execution_count": 14,
      "metadata": {
        "id": "wOxLP85eDlI9"
      },
      "outputs": [],
      "source": [
        "#@title ##2. Upload data, and process\n",
        "#@markdown Navigate to the File menu located top left of the screen. Upload data into the **Temp** directory in the form of a zip file containing the pdb dataset. It is also possible to directly upload pdb files into temp folder but this might take a long time depending on the number of files.\n",
        "#@markdown There are two example datasats to test the tool with, a ligand-protein exampple and a protein-protein example.\n",
        "#@markdown Select which data set you would like to use:\n",
        "import zipfile\n",
        "\n",
        "def extract_file(archive_path, output_folder):\n",
        "    if zipfile.is_zipfile(archive_path):\n",
        "        with zipfile.ZipFile(archive_path, 'r') as zip_ref:\n",
        "            zip_ref.extractall(output_folder)\n",
        "    else:\n",
        "        print(f\"{archive_path} is not a zip file\")\n",
        "\n",
        "uploaded_data_set = False #@param {type:\"boolean\"}\n",
        "protein_protein_example_data = False  #@param {type:\"boolean\"}\n",
        "protein_ligand_example_data = True  #@param {type:\"boolean\"}\n",
        "if uploaded_data_set:\n",
        "  zip_files = glob.glob(\"temp/\" +\"*.zip\")\n",
        "  files = zip_files + tar_files + rar_files\n",
        "  pdb_files =[]\n",
        "  for zip in files:\n",
        "      extract_file(zip, \"temp\")\n",
        "      zip = zip.split(\".zip\")[0]\n",
        "      pdb_files +=  glob.glob(zip + \"/*.pdb\")\n",
        "\n",
        "elif protein_ligand_example_data:\n",
        "  pdb_files = glob.glob(\"Ligand_Example/\" + \"*.pdb\")\n",
        "elif protein_protein_example_data:\n",
        "    pdb_files = glob.glob(\"Protein_Example/\" + \"*.pdb\")\n",
        ""
      ]
    },
    {
      "cell_type": "code",
      "source": [
        "#@title ##3. Select target and binding chains.\n",
        "\n",
        "#@markdown Select target chain, binding chain, select whether the target is a ligand or protein, atom names (if ligand) or residue index (if protein) to visualize, separate by commas.\n",
        "\n",
        "#@markdown You can also type 'all' to plot all residues or atoms.\n",
        "\n",
        "#@markdown **Example usage:**\n",
        "#@markdown - For protein example use B for target chain and A for binding chain.\n",
        "#@markdown - For ligand example use Z for target chain and B for binding chain. Use is_ligand function\n",
        "target_chain = \"Z\"#@param {type:\"string\"}\n",
        "binding_chain = \"B\"#@param {type:\"string\"}\n",
        "to_plot = \"all\"#@param {type:\"string\"}\n",
        "is_ligand = True #@param {type:\"boolean\"}\n",
        "\n",
        "if to_plot == \"all\":\n",
        "  plot_list = \"all\"\n",
        "\n",
        "else:\n",
        "    if is_ligand:\n",
        "      plot_list = [str(x) for x in to_plot.split(\",\")]\n",
        "    else:\n",
        "      plot_list =[int(x) for x in to_plot.split(\",\")]\n"
      ],
      "metadata": {
        "id": "IOyULmQbMe0u"
      },
      "execution_count": 15,
      "outputs": []
    },
    {
      "cell_type": "code",
      "execution_count": 16,
      "metadata": {
        "colab": {
          "base_uri": "https://localhost:8080/",
          "height": 429
        },
        "id": "h4K2HmQFDlJB",
        "outputId": "6868ae51-6af1-4a16-bc5b-1c09bfa1c079"
      },
      "outputs": [
        {
          "output_type": "error",
          "ename": "TypeError",
          "evalue": "ignored",
          "traceback": [
            "\u001b[0;31m---------------------------------------------------------------------------\u001b[0m",
            "\u001b[0;31mTypeError\u001b[0m                                 Traceback (most recent call last)",
            "\u001b[0;32m<ipython-input-16-1d59bc7f087d>\u001b[0m in \u001b[0;36m<cell line: 3>\u001b[0;34m()\u001b[0m\n\u001b[1;32m      1\u001b[0m \u001b[0;32mfrom\u001b[0m \u001b[0mmatplotlib\u001b[0m\u001b[0;34m.\u001b[0m\u001b[0mpyplot\u001b[0m \u001b[0;32mimport\u001b[0m \u001b[0mplot\u001b[0m\u001b[0;34m\u001b[0m\u001b[0;34m\u001b[0m\u001b[0m\n\u001b[1;32m      2\u001b[0m \u001b[0;31m# configure_plotly_browser_state()\u001b[0m\u001b[0;34m\u001b[0m\u001b[0;34m\u001b[0m\u001b[0m\n\u001b[0;32m----> 3\u001b[0;31m \u001b[0mdf_target\u001b[0m\u001b[0;34m,\u001b[0m\u001b[0mdf_binder\u001b[0m \u001b[0;34m=\u001b[0m \u001b[0msequence_logo_main\u001b[0m\u001b[0;34m.\u001b[0m\u001b[0mplot\u001b[0m\u001b[0;34m(\u001b[0m\u001b[0mpdb_files\u001b[0m\u001b[0;34m,\u001b[0m \u001b[0mtarget_chain\u001b[0m\u001b[0;34m,\u001b[0m\u001b[0mbinding_chain\u001b[0m\u001b[0;34m,\u001b[0m\u001b[0mis_ligand\u001b[0m\u001b[0;34m,\u001b[0m\u001b[0mplot_list\u001b[0m\u001b[0;34m)\u001b[0m\u001b[0;34m\u001b[0m\u001b[0;34m\u001b[0m\u001b[0m\n\u001b[0m",
            "\u001b[0;32m/content/sequence_logo_project/sequence_logo_main.py\u001b[0m in \u001b[0;36mplot\u001b[0;34m(files, target_chain, binder, is_ligand, to_show)\u001b[0m\n\u001b[1;32m    362\u001b[0m \u001b[0;34m\u001b[0m\u001b[0m\n\u001b[1;32m    363\u001b[0m \u001b[0;32mdef\u001b[0m \u001b[0mplot\u001b[0m\u001b[0;34m(\u001b[0m\u001b[0mlist_of_paths\u001b[0m\u001b[0;34m,\u001b[0m \u001b[0mtarget_chain\u001b[0m\u001b[0;34m,\u001b[0m \u001b[0mbinder\u001b[0m\u001b[0;34m,\u001b[0m \u001b[0mis_ligand\u001b[0m\u001b[0;34m,\u001b[0m\u001b[0mto_show\u001b[0m\u001b[0;34m)\u001b[0m\u001b[0;34m:\u001b[0m\u001b[0;34m\u001b[0m\u001b[0;34m\u001b[0m\u001b[0m\n\u001b[0;32m--> 364\u001b[0;31m     \u001b[0;32mif\u001b[0m \u001b[0mis_ligand\u001b[0m\u001b[0;34m:\u001b[0m\u001b[0;34m\u001b[0m\u001b[0;34m\u001b[0m\u001b[0m\n\u001b[0m\u001b[1;32m    365\u001b[0m         \u001b[0mtarget_chain_cordinates\u001b[0m \u001b[0;34m=\u001b[0m \u001b[0mhelper_functions\u001b[0m\u001b[0;34m.\u001b[0m\u001b[0mextract_info_ligand\u001b[0m\u001b[0;34m(\u001b[0m\u001b[0mlist_of_paths\u001b[0m\u001b[0;34m[\u001b[0m\u001b[0;36m0\u001b[0m\u001b[0;34m]\u001b[0m\u001b[0;34m,\u001b[0m \u001b[0mtarget_chain\u001b[0m\u001b[0;34m)\u001b[0m\u001b[0;34m\u001b[0m\u001b[0;34m\u001b[0m\u001b[0m\n\u001b[1;32m    366\u001b[0m         \u001b[0mdistance\u001b[0m \u001b[0;34m=\u001b[0m \u001b[0;36m10\u001b[0m\u001b[0;34m\u001b[0m\u001b[0;34m\u001b[0m\u001b[0m\n",
            "\u001b[0;31mTypeError\u001b[0m: can only concatenate list (not \"str\") to list"
          ]
        }
      ],
      "source": [
        "from matplotlib.pyplot import plot\n",
        "# configure_plotly_browser_state()\n",
        "df_target,df_binder = sequence_logo_main.plot(pdb_files, target_chain,binding_chain,is_ligand,plot_list)"
      ]
    },
    {
      "cell_type": "code",
      "execution_count": null,
      "metadata": {
        "id": "nB3YnhzYgg8D"
      },
      "outputs": [],
      "source": [
        "# sequence_logo_input = input(\"Enter residues index to generate sequence logos: separated by comas: \")\n",
        "# sequence_logo_residues =[int(x) for x in sequence_logo_input.split(\",\")]\n",
        "# print(sequence_logo_residues)"
      ]
    },
    {
      "cell_type": "code",
      "execution_count": null,
      "metadata": {
        "colab": {
          "base_uri": "https://localhost:8080/"
        },
        "id": "F52ErKdehJJK",
        "outputId": "1ef446bb-7bbc-4f25-b319-d97e82892837",
        "scrolled": false
      },
      "outputs": [
        {
          "ename": "TypeError",
          "evalue": "find_nearest_points() missing 1 required positional argument: 'is_ligand'",
          "output_type": "error",
          "traceback": [
            "\u001b[1;31m---------------------------------------------------------------------------\u001b[0m",
            "\u001b[1;31mTypeError\u001b[0m                                 Traceback (most recent call last)",
            "\u001b[1;32m~\\AppData\\Local\\Temp\\ipykernel_20688\\2711478095.py\u001b[0m in \u001b[0;36m<module>\u001b[1;34m\u001b[0m\n\u001b[1;32m----> 1\u001b[1;33m \u001b[0msequence_logo_main\u001b[0m\u001b[1;33m.\u001b[0m\u001b[0msequence_logos\u001b[0m\u001b[1;33m(\u001b[0m\u001b[0mdf_target\u001b[0m\u001b[1;33m,\u001b[0m\u001b[0mdf_binder\u001b[0m\u001b[1;33m,\u001b[0m \u001b[1;33m[\u001b[0m\u001b[1;34m'C7'\u001b[0m\u001b[1;33m,\u001b[0m\u001b[1;34m\"C8\"\u001b[0m\u001b[1;33m]\u001b[0m\u001b[1;33m,\u001b[0m \u001b[1;32mTrue\u001b[0m\u001b[1;33m)\u001b[0m\u001b[1;33m\u001b[0m\u001b[1;33m\u001b[0m\u001b[0m\n\u001b[0m",
            "\u001b[1;32m~\\OneDrive\\Documents\\GitHub\\sequence_logo_project\\sequence_logo_main.py\u001b[0m in \u001b[0;36msequence_logos\u001b[1;34m(data_frame_target, data_frame_binder, sequence_logo_targets, is_ligand)\u001b[0m\n\u001b[0;32m    399\u001b[0m         \u001b[1;32melse\u001b[0m\u001b[1;33m:\u001b[0m\u001b[1;33m\u001b[0m\u001b[1;33m\u001b[0m\u001b[0m\n\u001b[0;32m    400\u001b[0m             \u001b[0mcurrent_df\u001b[0m \u001b[1;33m=\u001b[0m \u001b[0mdata_frame_target\u001b[0m\u001b[1;33m.\u001b[0m\u001b[0mloc\u001b[0m\u001b[1;33m[\u001b[0m\u001b[0mdata_frame_target\u001b[0m\u001b[1;33m[\u001b[0m\u001b[1;34m'residue_index'\u001b[0m\u001b[1;33m]\u001b[0m \u001b[1;33m==\u001b[0m \u001b[0mtarget\u001b[0m \u001b[1;33m]\u001b[0m\u001b[1;33m\u001b[0m\u001b[1;33m\u001b[0m\u001b[0m\n\u001b[1;32m--> 401\u001b[1;33m         \u001b[0mnear_neighbor_current\u001b[0m \u001b[1;33m=\u001b[0m \u001b[0mfind_nearest_points\u001b[0m\u001b[1;33m(\u001b[0m\u001b[0mcurrent_df\u001b[0m\u001b[1;33m,\u001b[0m\u001b[0mdata_frame_binder\u001b[0m\u001b[1;33m,\u001b[0m\u001b[1;36m7\u001b[0m\u001b[1;33m)\u001b[0m\u001b[1;33m\u001b[0m\u001b[1;33m\u001b[0m\u001b[0m\n\u001b[0m\u001b[0;32m    402\u001b[0m         \u001b[1;32mif\u001b[0m \u001b[0mnear_neighbor_current\u001b[0m\u001b[1;33m.\u001b[0m\u001b[0mempty\u001b[0m\u001b[1;33m:\u001b[0m\u001b[1;33m\u001b[0m\u001b[1;33m\u001b[0m\u001b[0m\n\u001b[0;32m    403\u001b[0m             \u001b[1;32mcontinue\u001b[0m\u001b[1;33m\u001b[0m\u001b[1;33m\u001b[0m\u001b[0m\n",
            "\u001b[1;31mTypeError\u001b[0m: find_nearest_points() missing 1 required positional argument: 'is_ligand'"
          ]
        }
      ],
      "source": [
        "%matplotlib inline\n",
        "sequence_logo_main.sequence_logos(df_target,df_binder, ['C7',\"C8\"], True)"
      ]
    },
    {
      "cell_type": "code",
      "execution_count": null,
      "metadata": {
        "id": "glhZ5SH2DlJD"
      },
      "outputs": [],
      "source": []
    },
    {
      "cell_type": "code",
      "execution_count": null,
      "metadata": {
        "id": "aVOlvvWJO7ik"
      },
      "outputs": [],
      "source": []
    },
    {
      "cell_type": "code",
      "execution_count": null,
      "metadata": {
        "id": "VaZKsTJLO7il"
      },
      "outputs": [],
      "source": []
    },
    {
      "cell_type": "code",
      "execution_count": null,
      "metadata": {
        "id": "ODkINAQxO7il"
      },
      "outputs": [],
      "source": []
    }
  ],
  "metadata": {
    "colab": {
      "provenance": []
    },
    "kernelspec": {
      "display_name": "Python 3 (ipykernel)",
      "language": "python",
      "name": "python3"
    },
    "language_info": {
      "codemirror_mode": {
        "name": "ipython",
        "version": 3
      },
      "file_extension": ".py",
      "mimetype": "text/x-python",
      "name": "python",
      "nbconvert_exporter": "python",
      "pygments_lexer": "ipython3",
      "version": "3.9.13"
    }
  },
  "nbformat": 4,
  "nbformat_minor": 0
}