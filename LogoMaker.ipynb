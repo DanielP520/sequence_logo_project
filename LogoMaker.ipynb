{
  "nbformat": 4,
  "nbformat_minor": 0,
  "metadata": {
    "colab": {
      "provenance": []
    },
    "kernelspec": {
      "name": "python3",
      "display_name": "Python 3"
    },
    "language_info": {
      "name": "python"
    }
  },
  "cells": [
    {
      "cell_type": "code",
      "execution_count": null,
      "metadata": {
        "id": "nB3YnhzYgg8D"
      },
      "outputs": [],
      "source": [
        "def plot_3d_scatter_matplotlib(df):\n",
        "    # Create a new figure and a 3D axis\n",
        "    points_data = df[['X',\"Y\",\"Z\"]].values.tolist()\n",
        "\n",
        "    fig = plt.figure()\n",
        "    ax = fig.add_subplot(111, projection='3d')\n",
        "\n",
        "    # Extract x, y, and z coordinates from the points data\n",
        "    x = df.iloc[:, 0]\n",
        "    y = df.iloc[:, 1]\n",
        "    z = df.iloc[:, 2]\n",
        "    # Create the 3D scatter plot\n",
        "    ax.scatter(x, y, z, c='r', marker='o')\n",
        "\n",
        "    # Set axis labels\n",
        "    ax.set_xlabel('X')\n",
        "    ax.set_ylabel('Y')\n",
        "    ax.set_zlabel('Z')\n",
        "    plt.ion()\n",
        "    # Show the plot\n",
        "    plt.show()"
      ]
    },
    {
      "cell_type": "code",
      "source": [],
      "metadata": {
        "colab": {
          "base_uri": "https://localhost:8080/"
        },
        "id": "F52ErKdehJJK",
        "outputId": "1ef446bb-7bbc-4f25-b319-d97e82892837"
      },
      "execution_count": null,
      "outputs": [
        {
          "output_type": "stream",
          "name": "stdout",
          "text": [
            "/root\n"
          ]
        }
      ]
    }
  ]
}